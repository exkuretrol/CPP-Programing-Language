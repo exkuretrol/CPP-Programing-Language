{
 "cells": [
  {
   "cell_type": "markdown",
   "id": "896d67b4-5245-4879-bb4a-a0398e0aebdb",
   "metadata": {},
   "source": [
    "# Chapter 7"
   ]
  },
  {
   "cell_type": "code",
   "execution_count": 2,
   "id": "85cb1ecc-2e12-4755-9e33-476cd56dc019",
   "metadata": {},
   "outputs": [],
   "source": [
    "#include <iostream>\n",
    "using namespace std;"
   ]
  },
  {
   "cell_type": "code",
   "execution_count": 3,
   "id": "2474eb5f-86c8-4424-ac21-a32903db15ed",
   "metadata": {},
   "outputs": [
    {
     "name": "stdout",
     "output_type": "stream",
     "text": [
      "4"
     ]
    }
   ],
   "source": [
    "cout << sizeof(\"%d\\n\");"
   ]
  },
  {
   "cell_type": "markdown",
   "id": "1514da6a-f49f-471d-8724-d9a88c4f9869",
   "metadata": {},
   "source": [
    "加減運算子"
   ]
  },
  {
   "cell_type": "code",
   "execution_count": 3,
   "id": "bb75934e-6d95-4331-87a9-52b107105449",
   "metadata": {},
   "outputs": [],
   "source": [
    "int a = 0;"
   ]
  },
  {
   "cell_type": "markdown",
   "id": "8021fb67-f54a-444d-9a15-490d0046406d",
   "metadata": {},
   "source": [
    "- `a++`: 事後＋＋\n",
    "- `++a`: 事前＋＋\n",
    "- `a--`: 事後－－\n",
    "- `--a`: 事前－－"
   ]
  },
  {
   "cell_type": "code",
   "execution_count": 4,
   "id": "190f42c3-172d-4d0f-b603-2a5d089d097b",
   "metadata": {},
   "outputs": [
    {
     "name": "stdout",
     "output_type": "stream",
     "text": [
      "-2\n"
     ]
    }
   ],
   "source": [
    "int a = 3, b = 4, c = 5, d = 6;\n",
    "int y = ++a+b++- --c-d--;\n",
    "cout << y << endl;"
   ]
  },
  {
   "cell_type": "markdown",
   "id": "4e9cdf2d-ae5c-4956-aa8a-e936acef6958",
   "metadata": {},
   "source": [
    "`++a++`\n",
    "\n",
    "`++(a++)`\n",
    "\n",
    "`   ^^^`\n",
    "\n",
    "後＋＋比較優先"
   ]
  },
  {
   "cell_type": "code",
   "execution_count": 5,
   "id": "272c65b8-b3ee-4e85-9d8c-a22ae696bb1d",
   "metadata": {},
   "outputs": [
    {
     "name": "stderr",
     "output_type": "stream",
     "text": [
      "input_line_12:3:9: error: expression is not assignable\n",
      "cout << ++a+++b;\n",
      "        ^ ~~~\n"
     ]
    },
    {
     "ename": "Interpreter Error",
     "evalue": "",
     "output_type": "error",
     "traceback": [
      "Interpreter Error: "
     ]
    }
   ],
   "source": [
    "int a = 1, b = 2;\n",
    "cout << ++a+++b;"
   ]
  },
  {
   "cell_type": "code",
   "execution_count": 6,
   "id": "870ee95e-1b8b-4e92-839b-b0906ef1635f",
   "metadata": {},
   "outputs": [
    {
     "name": "stdout",
     "output_type": "stream",
     "text": [
      "5"
     ]
    }
   ],
   "source": [
    "int a = 1, b = 2;\n",
    "cout << ++a+ ++b;"
   ]
  },
  {
   "cell_type": "code",
   "execution_count": null,
   "id": "cc56805d-8de3-4771-8092-f7ce0b412aa4",
   "metadata": {},
   "outputs": [],
   "source": [
    "int v; int sum = 0;\n",
    "// while v = 0, interrupt while\n",
    "while(cin>>v,v)\n",
    "{\n",
    "    sum+=v;\n",
    "}\n",
    "cout << sum;"
   ]
  },
  {
   "cell_type": "markdown",
   "id": "e230a692-b643-4df0-b10d-ee99561f37e0",
   "metadata": {},
   "source": [
    "while; vs. while"
   ]
  },
  {
   "cell_type": "code",
   "execution_count": 9,
   "id": "0d1e2480-dc40-437e-8f57-fb28ff995e97",
   "metadata": {
    "tags": []
   },
   "outputs": [
    {
     "name": "stdin",
     "output_type": "stream",
     "text": [
      " 1 2 3 4\n"
     ]
    },
    {
     "name": "stdout",
     "output_type": "stream",
     "text": [
      "13610"
     ]
    },
    {
     "name": "stdin",
     "output_type": "stream",
     "text": [
      " 0\n"
     ]
    }
   ],
   "source": [
    "int v; int sum = 0;\n",
    "// while v = 0, interrupt while\n",
    "while(cin>>v,sum+=v,v) cout << sum;"
   ]
  },
  {
   "cell_type": "markdown",
   "id": "3e06655b-3667-44b1-b5ff-d4e330f4f912",
   "metadata": {},
   "source": [
    "讓 sum 斷行表示更清楚"
   ]
  },
  {
   "cell_type": "code",
   "execution_count": 8,
   "id": "7b780e36-8642-4a3f-a948-3c55be9616c6",
   "metadata": {
    "tags": []
   },
   "outputs": [
    {
     "name": "stdin",
     "output_type": "stream",
     "text": [
      " 1 2 3 4 0\n"
     ]
    },
    {
     "name": "stdout",
     "output_type": "stream",
     "text": [
      "1\n",
      "3\n",
      "6\n",
      "10\n"
     ]
    }
   ],
   "source": [
    "int v; int sum = 0;\n",
    "// while v = 0, interrupt while\n",
    "while(cin>>v,sum+=v,v)\n",
    "cout << sum << endl;"
   ]
  },
  {
   "cell_type": "code",
   "execution_count": 10,
   "id": "85cf5531-ba8e-418a-a9ec-34c246b2c2ba",
   "metadata": {
    "tags": []
   },
   "outputs": [
    {
     "name": "stdin",
     "output_type": "stream",
     "text": [
      " 1 2 3 4 0\n"
     ]
    },
    {
     "name": "stdout",
     "output_type": "stream",
     "text": [
      "10"
     ]
    }
   ],
   "source": [
    "int v; int sum = 0;\n",
    "// while v = 0, interrupt while\n",
    "while(cin>>v,sum+=v,v);\n",
    "//                    ^\n",
    "cout << sum;"
   ]
  },
  {
   "cell_type": "markdown",
   "id": "bb1dc441-db5e-41a4-8d93-752abd5c0bdd",
   "metadata": {},
   "source": [
    "# Chapter 8"
   ]
  },
  {
   "cell_type": "markdown",
   "id": "67ff007a-c9a3-42c3-a59a-5ee2be261340",
   "metadata": {},
   "source": [
    "if 範例"
   ]
  },
  {
   "cell_type": "code",
   "execution_count": 11,
   "id": "623ed489-6eda-4bf5-a365-5b501348aec9",
   "metadata": {},
   "outputs": [],
   "source": [
    "int x = 0;"
   ]
  },
  {
   "cell_type": "code",
   "execution_count": 12,
   "id": "8b86c091-7fe7-44b6-8882-ca742cd36dbd",
   "metadata": {},
   "outputs": [],
   "source": [
    "if (x < 0) cout << \",\";"
   ]
  },
  {
   "cell_type": "code",
   "execution_count": 13,
   "id": "b0bb7916-49a6-430d-aa38-52f81794f5f2",
   "metadata": {},
   "outputs": [],
   "source": [
    "int n;\n",
    "\n",
    "if (n) cout << n;"
   ]
  },
  {
   "cell_type": "code",
   "execution_count": 4,
   "id": "ae4b73a0-f829-4921-8701-d59eafc9585b",
   "metadata": {},
   "outputs": [
    {
     "name": "stdin",
     "output_type": "stream",
     "text": [
      " 1 2 3 4 0\n"
     ]
    },
    {
     "name": "stdout",
     "output_type": "stream",
     "text": [
      "1,2,3,4"
     ]
    }
   ],
   "source": [
    "int k = 0, v;\n",
    "while (cin >> v, v)\n",
    "{\n",
    "    if (k) cout << \",\";\n",
    "    k++;\n",
    "    cout << v;\n",
    "}"
   ]
  },
  {
   "cell_type": "code",
   "execution_count": 8,
   "id": "33235754-56b2-4703-85cd-ca95ef442779",
   "metadata": {},
   "outputs": [
    {
     "name": "stderr",
     "output_type": "stream",
     "text": [
      "input_line_15:7:5: error: 'break' statement not in loop or switch statement\n",
      "    break;\n",
      "    ^\n"
     ]
    },
    {
     "ename": "Interpreter Error",
     "evalue": "",
     "output_type": "error",
     "traceback": [
      "Interpreter Error: "
     ]
    }
   ],
   "source": [
    "int n = 0;\n",
    "int d = 2;\n",
    "if (n%d)\n",
    "{\n",
    "    cout << \"Odd\";\n",
    "    break;\n",
    "}"
   ]
  },
  {
   "cell_type": "code",
   "execution_count": 13,
   "id": "a804ad68-4539-4755-ab12-d8800171e294",
   "metadata": {},
   "outputs": [
    {
     "name": "stdout",
     "output_type": "stream",
     "text": [
      "123"
     ]
    }
   ],
   "source": [
    "int x = 1; int y, z;\n",
    "if (x == 1) y = 2; z = 3;\n",
    "cout << x << y << z;"
   ]
  },
  {
   "cell_type": "code",
   "execution_count": 14,
   "id": "3a178bfc-3a8d-4148-bc5c-695d1d268fc2",
   "metadata": {},
   "outputs": [
    {
     "name": "stdout",
     "output_type": "stream",
     "text": [
      "Even"
     ]
    }
   ],
   "source": [
    "int n = 2;\n",
    "if (n % 2)\n",
    "{\n",
    "    cout << \"Odd\";\n",
    "}\n",
    "else\n",
    "{\n",
    "    cout << \"Even\";\n",
    "}"
   ]
  },
  {
   "cell_type": "code",
   "execution_count": 21,
   "id": "953c819b-4923-4ab2-9dc4-c4ae1d33d81f",
   "metadata": {
    "tags": []
   },
   "outputs": [
    {
     "name": "stderr",
     "output_type": "stream",
     "text": [
      "input_line_32:5:1: error: expected expression\n",
      "else\n",
      "^\n"
     ]
    },
    {
     "ename": "Interpreter Error",
     "evalue": "",
     "output_type": "error",
     "traceback": [
      "Interpreter Error: "
     ]
    }
   ],
   "source": [
    "int x = 1, y, z;\n",
    "if (x == 1)\n",
    "    y = 2; z = 3;\n",
    "else\n",
    "    y = 3; z = 2;\n",
    "cout << x << y << z;"
   ]
  },
  {
   "cell_type": "markdown",
   "id": "35aeb888-068d-4911-9769-eac879c30156",
   "metadata": {},
   "source": [
    "分支指令\n",
    "`cond ? A : B;`"
   ]
  },
  {
   "cell_type": "code",
   "execution_count": 25,
   "id": "8da9beaa-2876-4f32-965e-78f4efc1b9e6",
   "metadata": {},
   "outputs": [
    {
     "name": "stdout",
     "output_type": "stream",
     "text": [
      "Even"
     ]
    }
   ],
   "source": [
    "int n = 2;\n",
    "if (n % 2) cout << \"Odd\"; else cout << \"Even\";"
   ]
  },
  {
   "cell_type": "code",
   "execution_count": 27,
   "id": "795e7e4f-fc59-45b1-a2e7-be2b94702419",
   "metadata": {},
   "outputs": [
    {
     "name": "stdout",
     "output_type": "stream",
     "text": [
      "Even"
     ]
    }
   ],
   "source": [
    "cout << ((n % 2) ? \"Odd\" : \"Even\");"
   ]
  },
  {
   "cell_type": "markdown",
   "id": "621dcafc-2b1e-4406-bef1-0b5bc6e63667",
   "metadata": {},
   "source": [
    "邏輯省略"
   ]
  },
  {
   "cell_type": "code",
   "execution_count": null,
   "id": "cc481298-9809-4e38-89f0-54487bcd3f93",
   "metadata": {},
   "outputs": [],
   "source": []
  }
 ],
 "metadata": {
  "kernelspec": {
   "display_name": "C++14",
   "language": "C++14",
   "name": "xcpp14"
  },
  "language_info": {
   "codemirror_mode": "text/x-c++src",
   "file_extension": ".cpp",
   "mimetype": "text/x-c++src",
   "name": "c++",
   "version": "14"
  }
 },
 "nbformat": 4,
 "nbformat_minor": 5
}
