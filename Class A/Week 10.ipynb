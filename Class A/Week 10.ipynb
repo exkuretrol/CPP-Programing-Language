{
 "cells": [
  {
   "cell_type": "markdown",
   "id": "4835af34-487a-4489-ab05-52f54d85970e",
   "metadata": {},
   "source": [
    "### A12"
   ]
  },
  {
   "cell_type": "code",
   "execution_count": 1,
   "id": "5f583486-9891-4faf-85b3-b3a41d500f8c",
   "metadata": {},
   "outputs": [],
   "source": [
    "#include <iostream>\n",
    "#include <string>\n",
    "using namespace std;"
   ]
  },
  {
   "cell_type": "code",
   "execution_count": 3,
   "id": "77bec2c0-f493-4c7c-a9d7-b58b7f0a24e0",
   "metadata": {},
   "outputs": [
    {
     "name": "stdout",
     "output_type": "stream",
     "text": [
      "127,347,137,741"
     ]
    }
   ],
   "source": [
    "string s = \"127347137741\";\n",
    "for (int k = 0; k < s.size(); k++)\n",
    "{\n",
    "    int d = k - s.size();\n",
    "    if (k && (d + k) % 3 == 0) cout << \",\";\n",
    "    cout << s[k];\n",
    "}"
   ]
  },
  {
   "cell_type": "code",
   "execution_count": 4,
   "id": "4e16db95-ffe2-4a35-a1ea-e861f5444590",
   "metadata": {},
   "outputs": [],
   "source": [
    "#include <iostream>\n",
    "#include <string>\n",
    "#include <algorithm>\n",
    "using namespace std;"
   ]
  },
  {
   "cell_type": "code",
   "execution_count": 5,
   "id": "81516ab0-053e-4131-b8e6-e50903a487b8",
   "metadata": {},
   "outputs": [
    {
     "name": "stderr",
     "output_type": "stream",
     "text": [
      "input_line_16:7:5: error: use of undeclared identifier 't'\n",
      "    t.push_back(s[k]);\n",
      "    ^\n",
      "input_line_16:8:33: error: use of undeclared identifier 't'\n",
      "    if(k%3 ==2 && k!=s.size()-1)t.push_back(',');\n",
      "                                ^\n",
      "input_line_16:10:9: error: use of undeclared identifier 't'\n",
      "reverse(t.begin(),t.end());\n",
      "        ^\n",
      "input_line_16:10:19: error: use of undeclared identifier 't'\n",
      "reverse(t.begin(),t.end());\n",
      "                  ^\n",
      "input_line_16:11:8: error: use of undeclared identifier 't'\n",
      "cout <<t;\n",
      "       ^\n"
     ]
    },
    {
     "ename": "Interpreter Error",
     "evalue": "",
     "output_type": "error",
     "traceback": [
      "Interpreter Error: "
     ]
    }
   ],
   "source": [
    "string s = \"12321\";\n",
    "cin >>s;\n",
    "reverse(s.begin(),s.end());\n",
    "for (int k = 0; k < s.size(); k++)\n",
    "{\n",
    "    t.push_back(s[k]);\n",
    "    if(k%3 ==2 && k!=s.size()-1)t.push_back(',');\n",
    "}\n",
    "reverse(t.begin(),t.end());\n",
    "cout <<t;"
   ]
  },
  {
   "cell_type": "code",
   "execution_count": 20,
   "id": "2835e11e-bd2a-4271-b63e-0e42d0a659fb",
   "metadata": {},
   "outputs": [
    {
     "name": "stdout",
     "output_type": "stream",
     "text": [
      "123,321,232,2"
     ]
    }
   ],
   "source": [
    "string s = \"1233212322\"; \n",
    "// cin >> s;\n",
    "int d = - s.size() % 3 + 2;\n",
    "for (int k = 0; k < s.size(); k++)\n",
    "{\n",
    "    if (k && k % 3 ==0) cout << ',';\n",
    "    cout << s[k];\n",
    "}"
   ]
  },
  {
   "cell_type": "markdown",
   "id": "b85cbe69-872b-47f3-aaf4-1cb76cf2f23d",
   "metadata": {},
   "source": [
    "### A13"
   ]
  },
  {
   "cell_type": "code",
   "execution_count": 1,
   "id": "e0a3dff3-5faf-4162-b412-fe7e3cf97da9",
   "metadata": {},
   "outputs": [],
   "source": [
    "#include <iostream>\n",
    "using namespace std;"
   ]
  },
  {
   "cell_type": "code",
   "execution_count": 2,
   "id": "5e7c9775-3cea-4a3c-ad55-32bd69a6b39a",
   "metadata": {},
   "outputs": [
    {
     "name": "stdin",
     "output_type": "stream",
     "text": [
      " 1234\n"
     ]
    },
    {
     "name": "stdout",
     "output_type": "stream",
     "text": [
      "305\n"
     ]
    }
   ],
   "source": [
    "int n;\n",
    "cin >> n;\n",
    "int ans = 0;\n",
    "while (n)\n",
    "{\n",
    "    ans += n/5;\n",
    "    n /= 5;\n",
    "}\n",
    "cout << ans << endl;"
   ]
  },
  {
   "cell_type": "markdown",
   "id": "1a912e04-076b-488a-a232-a863e7d9e2a2",
   "metadata": {},
   "source": [
    "### A14"
   ]
  },
  {
   "cell_type": "code",
   "execution_count": 1,
   "id": "c3af295d-9075-4b87-a2da-38631d0f555a",
   "metadata": {},
   "outputs": [],
   "source": [
    "#include <iostream>\n",
    "using namespace std;"
   ]
  },
  {
   "cell_type": "code",
   "execution_count": 7,
   "id": "c13ab375-3e80-4ede-a8f4-5e4f934a3331",
   "metadata": {},
   "outputs": [
    {
     "name": "stdout",
     "output_type": "stream",
     "text": [
      "24=2*2*2*3"
     ]
    }
   ],
   "source": [
    "int n;\n",
    "n = 24; \n",
    "cout << n;\n",
    "int pd = 0;\n",
    "for (int d = 2; d <= n; d++)\n",
    "{\n",
    "    while(n % d == 0) \n",
    "    {\n",
    "        if(pd) cout << \"*\"; \n",
    "        else cout << \"=\"; \n",
    "        pd = 1;\n",
    "        cout << d; \n",
    "        n /= d;\n",
    "    }\n",
    "}"
   ]
  },
  {
   "cell_type": "code",
   "execution_count": null,
   "id": "79cffbd6-2e64-4547-9ddc-14021f8f4a41",
   "metadata": {},
   "outputs": [],
   "source": []
  }
 ],
 "metadata": {
  "kernelspec": {
   "display_name": "C++14",
   "language": "C++14",
   "name": "xcpp14"
  },
  "language_info": {
   "codemirror_mode": "text/x-c++src",
   "file_extension": ".cpp",
   "mimetype": "text/x-c++src",
   "name": "c++",
   "version": "14"
  }
 },
 "nbformat": 4,
 "nbformat_minor": 5
}
