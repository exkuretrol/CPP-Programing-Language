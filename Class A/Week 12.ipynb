{
 "cells": [
  {
   "cell_type": "code",
   "execution_count": 1,
   "id": "d3e1c1b1-b0d2-48ec-82df-f95809576aef",
   "metadata": {},
   "outputs": [],
   "source": [
    "#include <iostream>\n",
    "using namespace std;"
   ]
  },
  {
   "cell_type": "code",
   "execution_count": 2,
   "id": "d761175d-9301-47d6-b5da-7f9dca8e5af8",
   "metadata": {},
   "outputs": [],
   "source": [
    "string s, t; char c; int k; int n;"
   ]
  },
  {
   "cell_type": "code",
   "execution_count": 3,
   "id": "6d9ca69a-a003-4285-b44e-7a9ee9bedd66",
   "metadata": {},
   "outputs": [
    {
     "data": {
      "text/plain": [
       "12"
      ]
     },
     "execution_count": 3,
     "metadata": {},
     "output_type": "execute_result"
    }
   ],
   "source": [
    "s = \"CodingFrenzy\";\n",
    "s.length()"
   ]
  },
  {
   "cell_type": "code",
   "execution_count": 5,
   "id": "61524c55-3b1a-4e27-85ab-44fbc665be48",
   "metadata": {},
   "outputs": [
    {
     "data": {
      "text/plain": [
       "12"
      ]
     },
     "execution_count": 5,
     "metadata": {},
     "output_type": "execute_result"
    }
   ],
   "source": [
    "s.size()"
   ]
  },
  {
   "cell_type": "code",
   "execution_count": 6,
   "id": "b7ef10da-878b-4408-b81f-2ccc75f9fa0a",
   "metadata": {},
   "outputs": [
    {
     "data": {
      "text/plain": [
       "false"
      ]
     },
     "execution_count": 6,
     "metadata": {},
     "output_type": "execute_result"
    }
   ],
   "source": [
    "s.empty()"
   ]
  },
  {
   "cell_type": "code",
   "execution_count": 12,
   "id": "0a80b850-0413-4d78-bf90-5137321d8c5f",
   "metadata": {},
   "outputs": [
    {
     "data": {
      "text/plain": [
       "'D'"
      ]
     },
     "execution_count": 12,
     "metadata": {},
     "output_type": "execute_result"
    }
   ],
   "source": [
    "s[0] = 'D'"
   ]
  },
  {
   "cell_type": "code",
   "execution_count": 13,
   "id": "140149fe-c6a4-4ffb-9ab4-f4777c0a3e2d",
   "metadata": {},
   "outputs": [
    {
     "data": {
      "text/plain": [
       "\"DodingFrenzy\""
      ]
     },
     "execution_count": 13,
     "metadata": {},
     "output_type": "execute_result"
    }
   ],
   "source": [
    "s"
   ]
  },
  {
   "cell_type": "code",
   "execution_count": 14,
   "id": "14a29476-3a40-4e63-bfec-a9e921d8ea9b",
   "metadata": {},
   "outputs": [],
   "source": [
    "s[0] = 'C';"
   ]
  },
  {
   "cell_type": "code",
   "execution_count": 15,
   "id": "ddaa19d8-1d3b-4a67-9d57-8fbf3137d083",
   "metadata": {},
   "outputs": [
    {
     "data": {
      "text/plain": [
       "\"CodingFrenzy\""
      ]
     },
     "execution_count": 15,
     "metadata": {},
     "output_type": "execute_result"
    }
   ],
   "source": [
    "s"
   ]
  },
  {
   "cell_type": "markdown",
   "id": "1e2da3b1-7b4a-40ba-a1c8-2a128a04eed7",
   "metadata": {},
   "source": [
    "字典排序法\n",
    "\n",
    "- ABC\n",
    "- ABCDEF\n",
    "- ABD\n"
   ]
  },
  {
   "cell_type": "code",
   "execution_count": 16,
   "id": "8a38cb48-49ad-4913-b236-d6c26774cfa2",
   "metadata": {},
   "outputs": [
    {
     "data": {
      "text/plain": [
       "'C'"
      ]
     },
     "execution_count": 16,
     "metadata": {},
     "output_type": "execute_result"
    }
   ],
   "source": [
    "s.at(0)"
   ]
  },
  {
   "cell_type": "code",
   "execution_count": 17,
   "id": "4273407d-7e35-4537-b478-7b3dfb9c5c75",
   "metadata": {},
   "outputs": [],
   "source": [
    "s.push_back('.')"
   ]
  },
  {
   "cell_type": "code",
   "execution_count": 18,
   "id": "e272d750-9c68-46e3-ae52-f8aa5a73d6b4",
   "metadata": {},
   "outputs": [
    {
     "data": {
      "text/plain": [
       "\"CodingFrenzy.\""
      ]
     },
     "execution_count": 18,
     "metadata": {},
     "output_type": "execute_result"
    }
   ],
   "source": [
    "s"
   ]
  },
  {
   "cell_type": "markdown",
   "id": "d3dc92c9-35ff-4554-8d05-33ea6fb7e417",
   "metadata": {},
   "source": [
    "### 原型 "
   ]
  },
  {
   "cell_type": "code",
   "execution_count": 19,
   "id": "175ad8e1-6f36-4336-9a16-f7c07f285b99",
   "metadata": {},
   "outputs": [
    {
     "data": {
      "text/plain": [
       "\"CodingFrenzy.\""
      ]
     },
     "execution_count": 19,
     "metadata": {},
     "output_type": "execute_result"
    }
   ],
   "source": [
    "s.c_str()"
   ]
  },
  {
   "cell_type": "code",
   "execution_count": 21,
   "id": "5deb025b-71e4-4b5f-b837-74dcf21c9acd",
   "metadata": {},
   "outputs": [
    {
     "data": {
      "text/plain": [
       "\"CodingFrenzy.\""
      ]
     },
     "execution_count": 21,
     "metadata": {},
     "output_type": "execute_result"
    }
   ],
   "source": [
    "s.data()"
   ]
  },
  {
   "cell_type": "code",
   "execution_count": 26,
   "id": "54e78a3a-53a9-48a6-b9e0-3fcafb585077",
   "metadata": {},
   "outputs": [
    {
     "name": "stdout",
     "output_type": "stream",
     "text": [
      "Not Found!"
     ]
    }
   ],
   "source": [
    "if (s.find('D') == -1) cout << \"Not Found!\";"
   ]
  },
  {
   "cell_type": "code",
   "execution_count": 27,
   "id": "c2460f58-5b56-4e1a-bafc-691b9a2f3f06",
   "metadata": {},
   "outputs": [
    {
     "data": {
      "text/plain": [
       "18446744073709551615"
      ]
     },
     "execution_count": 27,
     "metadata": {},
     "output_type": "execute_result"
    }
   ],
   "source": [
    "s.find('D')"
   ]
  },
  {
   "cell_type": "code",
   "execution_count": 28,
   "id": "83d523df-d08f-4a67-8a29-6b8b577fcc6b",
   "metadata": {},
   "outputs": [
    {
     "data": {
      "text/plain": [
       "@0x5559f15f8740"
      ]
     },
     "execution_count": 28,
     "metadata": {},
     "output_type": "execute_result"
    }
   ],
   "source": [
    "s.begin()"
   ]
  },
  {
   "cell_type": "code",
   "execution_count": 29,
   "id": "6f2dc982-e186-48e3-a2eb-bbdb9d5d0b34",
   "metadata": {},
   "outputs": [
    {
     "data": {
      "text/plain": [
       "@0x5559f0a02a80"
      ]
     },
     "execution_count": 29,
     "metadata": {},
     "output_type": "execute_result"
    }
   ],
   "source": [
    "s.end()"
   ]
  },
  {
   "cell_type": "code",
   "execution_count": null,
   "id": "f3d13f65-fe64-4516-ae50-8bfeb749aa21",
   "metadata": {},
   "outputs": [],
   "source": []
  }
 ],
 "metadata": {
  "kernelspec": {
   "display_name": "C++14",
   "language": "C++14",
   "name": "xcpp14"
  },
  "language_info": {
   "codemirror_mode": "text/x-c++src",
   "file_extension": ".cpp",
   "mimetype": "text/x-c++src",
   "name": "c++",
   "version": "14"
  }
 },
 "nbformat": 4,
 "nbformat_minor": 5
}
