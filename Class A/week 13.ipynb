{
 "cells": [
  {
   "cell_type": "code",
   "execution_count": 1,
   "id": "ea9cc44b-f94a-4f19-a37e-7dee2e33c6ae",
   "metadata": {},
   "outputs": [],
   "source": [
    "#include <iostream>\n",
    "#include <ctime>\n",
    "using namespace std;"
   ]
  },
  {
   "cell_type": "code",
   "execution_count": 2,
   "id": "8f7a3a91-5fb2-4eb1-95e3-f5f6dd2d9ee9",
   "metadata": {},
   "outputs": [
    {
     "name": "stdout",
     "output_type": "stream",
     "text": [
      "1669598761\n"
     ]
    }
   ],
   "source": [
    "time_t now = time(0);\n",
    "cout << now << endl;"
   ]
  },
  {
   "cell_type": "code",
   "execution_count": 6,
   "id": "03ec0d8d-ae93-4ebd-aebf-1555892327f7",
   "metadata": {},
   "outputs": [
    {
     "name": "stdout",
     "output_type": "stream",
     "text": [
      "Mon Nov 28 09:26:01 2022\n",
      "\n"
     ]
    }
   ],
   "source": [
    "cout << ctime(&now) << endl;"
   ]
  },
  {
   "cell_type": "code",
   "execution_count": 9,
   "id": "b0f858f6-a37b-4ba5-aa89-407e7a1e47ed",
   "metadata": {},
   "outputs": [],
   "source": [
    "#include <string>"
   ]
  },
  {
   "cell_type": "code",
   "execution_count": 12,
   "id": "f9548a46-d85b-4e8a-a25d-351ea2432f65",
   "metadata": {},
   "outputs": [
    {
     "data": {
      "text/plain": [
       "\"BCDEFGH\""
      ]
     },
     "execution_count": 12,
     "metadata": {},
     "output_type": "execute_result"
    }
   ],
   "source": [
    "string s; \n",
    "s = \"ABCDEFGH\";\n",
    "s.erase(s.begin());\n",
    "s"
   ]
  },
  {
   "cell_type": "markdown",
   "id": "6823a5cb-33dd-4601-9aeb-47789463c6db",
   "metadata": {},
   "source": [
    "`*` 所指之物"
   ]
  },
  {
   "cell_type": "code",
   "execution_count": 15,
   "id": "238ea2e9-49d8-4bfd-9b83-17ae9115d22c",
   "metadata": {},
   "outputs": [
    {
     "data": {
      "text/plain": [
       "'B'"
      ]
     },
     "execution_count": 15,
     "metadata": {},
     "output_type": "execute_result"
    }
   ],
   "source": [
    "*s.begin()"
   ]
  },
  {
   "cell_type": "code",
   "execution_count": 18,
   "id": "6ae2fd79-1422-47cb-8418-615dbdfa47d0",
   "metadata": {},
   "outputs": [
    {
     "data": {
      "text/plain": [
       "'B'"
      ]
     },
     "execution_count": 18,
     "metadata": {},
     "output_type": "execute_result"
    }
   ],
   "source": [
    "s[0]"
   ]
  },
  {
   "cell_type": "code",
   "execution_count": 16,
   "id": "6d647bc4-16a3-4189-b73e-3209ec816bb2",
   "metadata": {},
   "outputs": [
    {
     "data": {
      "text/plain": [
       "'C'"
      ]
     },
     "execution_count": 16,
     "metadata": {},
     "output_type": "execute_result"
    }
   ],
   "source": [
    "*(s.begin() + 1)"
   ]
  },
  {
   "cell_type": "code",
   "execution_count": 19,
   "id": "374d8828-04c2-44ec-89ca-548df8fe6c3e",
   "metadata": {},
   "outputs": [
    {
     "data": {
      "text/plain": [
       "'C'"
      ]
     },
     "execution_count": 19,
     "metadata": {},
     "output_type": "execute_result"
    }
   ],
   "source": [
    "s[1]"
   ]
  },
  {
   "cell_type": "code",
   "execution_count": 21,
   "id": "35369ce1-e150-4eef-9f0a-cdc65cca49f5",
   "metadata": {},
   "outputs": [
    {
     "data": {
      "text/plain": [
       "'B'"
      ]
     },
     "execution_count": 21,
     "metadata": {},
     "output_type": "execute_result"
    }
   ],
   "source": [
    "s[0]"
   ]
  },
  {
   "cell_type": "code",
   "execution_count": 20,
   "id": "ada39889-c949-4b05-b101-7815c332e2df",
   "metadata": {},
   "outputs": [
    {
     "data": {
      "text/plain": [
       "'B'"
      ]
     },
     "execution_count": 20,
     "metadata": {},
     "output_type": "execute_result"
    }
   ],
   "source": [
    "s.operator[](0)"
   ]
  },
  {
   "cell_type": "code",
   "execution_count": 23,
   "id": "7116198d-6bc9-45a1-9787-1a615cd616b9",
   "metadata": {},
   "outputs": [],
   "source": [
    "s.push_back('I');"
   ]
  },
  {
   "cell_type": "code",
   "execution_count": 31,
   "id": "d6146187-a990-4bf2-9b8e-f12fa8d85f6a",
   "metadata": {},
   "outputs": [
    {
     "data": {
      "text/plain": [
       "\"BCDEFGHI\""
      ]
     },
     "execution_count": 31,
     "metadata": {},
     "output_type": "execute_result"
    }
   ],
   "source": [
    "s"
   ]
  },
  {
   "cell_type": "code",
   "execution_count": 46,
   "id": "1e4867c2-743c-4975-8cb4-31aa5824256f",
   "metadata": {},
   "outputs": [
    {
     "name": "stdout",
     "output_type": "stream",
     "text": [
      "3.14159\n",
      "15: 3.141592653589793\n",
      "16: 3.1415926535897931\n",
      "17: 3.14159265358979312\n",
      "18: 3.141592653589793116\n",
      "19: 3.1415926535897931160\n",
      "20: 3.14159265358979311600\n",
      "21: 3.141592653589793115998\n"
     ]
    }
   ],
   "source": [
    "double pi = acos(-1);\n",
    "cout << pi << endl;\n",
    "printf(\"15: %.15lf\\n\", pi);\n",
    "printf(\"16: %.16lf\\n\", pi);\n",
    "printf(\"17: %.17lf\\n\", pi);\n",
    "printf(\"18: %.18lf\\n\", pi);\n",
    "printf(\"19: %.19lf\\n\", pi);\n",
    "printf(\"20: %.20lf\\n\", pi);\n",
    "printf(\"21: %.21lf\\n\", pi);"
   ]
  },
  {
   "cell_type": "code",
   "execution_count": 44,
   "id": "de9fb3f5-30f9-4a3b-b3f5-b545c590eb64",
   "metadata": {},
   "outputs": [
    {
     "name": "stdout",
     "output_type": "stream",
     "text": [
      "15.9546\n"
     ]
    }
   ],
   "source": [
    "cout << 53/(log(10) / log(2)) << endl;"
   ]
  },
  {
   "cell_type": "code",
   "execution_count": 39,
   "id": "4bcbd915-fa8f-448b-93c1-5dd1e7f82380",
   "metadata": {},
   "outputs": [
    {
     "name": "stdout",
     "output_type": "stream",
     "text": [
      "010000000000--1001001000011111101101010100010001000010110100011000"
     ]
    }
   ],
   "source": [
    "long long v = *((long long*) &pi);\n",
    "for (int k = 63; k >= 0; k--)\n",
    "{\n",
    "    if (k == 51) cout << \"--\";\n",
    "    if ((1LL << k)&v) cout << 1;\n",
    "    else cout << 0;\n",
    "}"
   ]
  },
  {
   "cell_type": "code",
   "execution_count": 47,
   "id": "09ff5376-e9c4-46a0-b2fa-ea0e7b49a384",
   "metadata": {},
   "outputs": [],
   "source": [
    "#include <ctime>"
   ]
  },
  {
   "cell_type": "code",
   "execution_count": 48,
   "id": "491fc3db-eb94-4f46-a02f-1fefdc0cb480",
   "metadata": {},
   "outputs": [],
   "source": [
    "time_t now;\n",
    "time(&now);\n",
    "struct tm *timeinfo;\n",
    "char cs[1024];\n"
   ]
  },
  {
   "cell_type": "code",
   "execution_count": null,
   "id": "8673974b-5fd3-42d8-bce2-fc27da2086b2",
   "metadata": {},
   "outputs": [],
   "source": [
    "int n;\n",
    "cin >> n;"
   ]
  },
  {
   "cell_type": "markdown",
   "id": "0bed81b0-232e-4e95-a1bf-9913abe31e31",
   "metadata": {},
   "source": [
    "螢幕\n",
    "```plaintext\n",
    "variable <--- cin  <--- screen\n",
    "variable ---> cout ---> screen\n",
    "```\n",
    "\n",
    "s 字串\n",
    "```plaintext\n",
    "variable <--- sin  <--- string\n",
    "variable ---> sout ---> string\n",
    "```\n",
    "\n",
    "f 檔案\n",
    "```plaintext\n",
    "variable <--- fin  <--- file\n",
    "variable ---> fout ---> file\n",
    "```\n"
   ]
  },
  {
   "cell_type": "code",
   "execution_count": 49,
   "id": "2fdb1b86-af58-4f55-9cf3-5f03e578db02",
   "metadata": {},
   "outputs": [],
   "source": [
    "#include <sstream>"
   ]
  },
  {
   "cell_type": "code",
   "execution_count": 51,
   "id": "af3d2d01-d75c-46b2-a616-5919611ee08a",
   "metadata": {},
   "outputs": [
    {
     "name": "stdin",
     "output_type": "stream",
     "text": [
      " 32\n"
     ]
    },
    {
     "name": "stdout",
     "output_type": "stream",
     "text": [
      "32 33 \n"
     ]
    }
   ],
   "source": [
    "ostringstream sout;\n",
    "int n; \n",
    "cin >> n; // 32\n",
    "sout << n << \" \" << n + 1 << \" \";\n",
    "string s = sout.str();\n",
    "cout << s << endl;"
   ]
  },
  {
   "cell_type": "code",
   "execution_count": 1,
   "id": "803426c9-374c-497b-b900-2c677bd05472",
   "metadata": {},
   "outputs": [],
   "source": [
    "#include <iostream>\n",
    "using namespace std;"
   ]
  },
  {
   "cell_type": "code",
   "execution_count": 3,
   "id": "2577b3b9-e9f8-4eb1-be7b-98f8e0ea6d82",
   "metadata": {},
   "outputs": [
    {
     "name": "stdin",
     "output_type": "stream",
     "text": [
      " 1 2\n"
     ]
    },
    {
     "name": "stdout",
     "output_type": "stream",
     "text": [
      "12"
     ]
    },
    {
     "name": "stdin",
     "output_type": "stream",
     "text": [
      " 0 0\n"
     ]
    }
   ],
   "source": [
    "int a, b;\n",
    "while(cin >> a >> b, a + b)\n",
    "{\n",
    "    cout << a << b;\n",
    "}\n",
    "// a + b = 0 ? \"exit\" : \"{}\""
   ]
  },
  {
   "cell_type": "code",
   "execution_count": 4,
   "id": "ac3d823d-0343-4dbd-a474-31bcfdfd7d10",
   "metadata": {},
   "outputs": [],
   "source": [
    "char c;\n",
    "string s;"
   ]
  },
  {
   "cell_type": "code",
   "execution_count": 6,
   "id": "2a3b2cb9-2fdf-4e45-b4af-875d8edd5d05",
   "metadata": {},
   "outputs": [],
   "source": [
    "s = \" abc def\\n kkk hhh\";"
   ]
  },
  {
   "cell_type": "code",
   "execution_count": null,
   "id": "4ebfb98e-13ed-412c-a4ef-921260c8205e",
   "metadata": {},
   "outputs": [],
   "source": [
    "cin >> c;\n",
    "cin >> s;\n",
    "cin.get(c);\n",
    "getline(cin, s);"
   ]
  },
  {
   "cell_type": "markdown",
   "id": "a37fb153-58b7-4b27-9345-c4c865a88490",
   "metadata": {},
   "source": [
    "```\n",
    "screen                                n                             finout.txt\n",
    "\" 3287 \"                             3287                            c  d  7\n",
    "20 33 32 38 38 20\" ---> cin ---> 00 00 0c d7 ---> fout << hex ---> \"63 64 37\"\n",
    "\n",
    "fintout.txt                           m\n",
    "\"cd7\"\n",
    "63 64 37 ---> fin << hex --->    00 00 0c d7\n",
    "```"
   ]
  },
  {
   "cell_type": "code",
   "execution_count": null,
   "id": "32c47f5e-e769-46ea-8112-1c42649a2505",
   "metadata": {},
   "outputs": [],
   "source": []
  }
 ],
 "metadata": {
  "kernelspec": {
   "display_name": "C++14",
   "language": "C++14",
   "name": "xcpp14"
  },
  "language_info": {
   "codemirror_mode": "text/x-c++src",
   "file_extension": ".cpp",
   "mimetype": "text/x-c++src",
   "name": "c++",
   "version": "14"
  }
 },
 "nbformat": 4,
 "nbformat_minor": 5
}
