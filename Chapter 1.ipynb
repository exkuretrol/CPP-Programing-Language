{
 "cells": [
  {
   "cell_type": "markdown",
   "id": "bfcdd22e-d2b4-4616-8772-49ec0b774bca",
   "metadata": {},
   "source": [
    "# Chapter 1 認識C++"
   ]
  },
  {
   "cell_type": "markdown",
   "id": "5fdc437c-4016-47f6-8f20-b3e9248d61f0",
   "metadata": {},
   "source": [
    "- compiler（編譯器）：將原始檔（source file）編譯成目的檔（object file）\n",
    "- linker（連結程式）：將目的檔連結函式庫（library）與其他目的檔後，變成可執行檔案（executable file）\n",
    "- semantic error（語意錯誤）：程式可以跑，但是結果不如預期\n",
    "- syntax error（語法錯誤）：程式不能跑，因為語法錯誤"
   ]
  },
  {
   "cell_type": "markdown",
   "id": "dbf17ac9-3cfe-4268-b514-10412a0f9b05",
   "metadata": {},
   "source": [
    "```cpp\n",
    "#include <iostream>\n",
    "#include <cstdlib>\n",
    "\n",
    "using namespace std; \n",
    "\n",
    "// 以下為主程式（main program）\n",
    "int main(void) {\n",
    "    cout << \"Hello, C++\" << endl;\n",
    "    system(\"pause\");\n",
    "    return 0;\n",
    "}\n",
    "```"
   ]
  }
 ],
 "metadata": {
  "kernelspec": {
   "display_name": "C++14",
   "language": "C++14",
   "name": "xcpp14"
  },
  "language_info": {
   "codemirror_mode": "text/x-c++src",
   "file_extension": ".cpp",
   "mimetype": "text/x-c++src",
   "name": "c++",
   "version": "14"
  }
 },
 "nbformat": 4,
 "nbformat_minor": 5
}
