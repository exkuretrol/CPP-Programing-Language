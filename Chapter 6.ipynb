{
 "cells": [
  {
   "cell_type": "markdown",
   "id": "6938dbe5-400f-4266-8420-ac3ccf10d854",
   "metadata": {},
   "source": [
    "# Chapter 6 - 函數"
   ]
  },
  {
   "cell_type": "code",
   "execution_count": 1,
   "id": "00770249-b91b-4435-b4f6-8a30d99a3d49",
   "metadata": {},
   "outputs": [],
   "source": [
    "#include <iostream>\n",
    "using namespace std;"
   ]
  },
  {
   "cell_type": "code",
   "execution_count": 2,
   "id": "e80106ae-5bfe-40c3-8ddf-2da2e840095b",
   "metadata": {},
   "outputs": [
    {
     "name": "stdout",
     "output_type": "stream",
     "text": [
      "********\n",
      "6*6=36\n",
      "********\n"
     ]
    }
   ],
   "source": [
    "void star(void) {\n",
    "    int j;\n",
    "    for (j = 1; j <= 8; j++)\n",
    "        cout << \"*\";\n",
    "    cout << endl;\n",
    "    return;\n",
    "}\n",
    "\n",
    "star();\n",
    "cout << \"6*6=\" << 6 * 6 << endl;\n",
    "star();"
   ]
  },
  {
   "cell_type": "code",
   "execution_count": 4,
   "id": "e4fd35f0-d530-4bd3-917b-81092a7b1cb0",
   "metadata": {},
   "outputs": [
    {
     "name": "stdin",
     "output_type": "stream",
     "text": [
      " 3 4\n"
     ]
    },
    {
     "name": "stdout",
     "output_type": "stream",
     "text": [
      "25"
     ]
    }
   ],
   "source": [
    "/**\n",
    " add two integer together\n",
    " @param p\n",
    " @param q\n",
    " @return t, sum of p and q.\n",
    "*/\n",
    "int f(int p, int q)\n",
    "{\n",
    "    int t;\n",
    "    t = p * p + q * q;\n",
    "    return t;\n",
    "}\n",
    "\n",
    "int a, b, c;\n",
    "cin >> a >> b;\n",
    "c = f(a, b);\n",
    "cout << c;"
   ]
  }
 ],
 "metadata": {
  "kernelspec": {
   "display_name": "C++14",
   "language": "C++14",
   "name": "xcpp14"
  },
  "language_info": {
   "codemirror_mode": "text/x-c++src",
   "file_extension": ".cpp",
   "mimetype": "text/x-c++src",
   "name": "c++",
   "version": "14"
  }
 },
 "nbformat": 4,
 "nbformat_minor": 5
}
