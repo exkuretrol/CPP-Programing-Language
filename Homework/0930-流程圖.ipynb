{
 "cells": [
  {
   "cell_type": "markdown",
   "id": "e8237475-dbf6-4e02-aead-1f19af184921",
   "metadata": {},
   "source": [
    "# 程式設計（一）作業"
   ]
  },
  {
   "cell_type": "markdown",
   "id": "57297e2b-ae3b-471b-b8e3-5d3a79979249",
   "metadata": {},
   "source": [
    "- **截止日期：**09/30\n",
    "- **目標：**流程圖"
   ]
  },
  {
   "cell_type": "markdown",
   "id": "0e351128-b749-46be-9838-a3c215df2bf9",
   "metadata": {},
   "source": [
    "<div style=\"display: flex; flex-direction: row-reverse; width: 100%\">\n",
    "<p style=\"text-align: left; margin-left: auto\">\n",
    "    姓名：陳家瑋<br>\n",
    "    學號：08170875\n",
    "</p>\n",
    "</div>"
   ]
  },
  {
   "cell_type": "markdown",
   "id": "99a36160-c08f-4216-96d1-0edd530f7e5b",
   "metadata": {},
   "source": [
    "> 請使用流程圖，設計一程式輸入一位學生的成績，<br>\n",
    "> 由程式判斷若成績在60分以上，請輸出\"及格\"，反之則為不及格\n"
   ]
  },
  {
   "cell_type": "code",
   "execution_count": 1,
   "id": "c17d029a-4975-4f5c-a69c-415b0c3e4608",
   "metadata": {},
   "outputs": [
    {
     "name": "stdout",
     "output_type": "stream",
     "text": [
      "start at: 2022-09-30 21:41:42\n"
     ]
    }
   ],
   "source": [
    "!echo \"start at: $(date +%F\\ %T)\""
   ]
  },
  {
   "cell_type": "markdown",
   "id": "90065cba-1a44-4510-9ac3-0e7a89ec55a3",
   "metadata": {},
   "source": [
    "```mermaid\n",
    "graph TD\n",
    "\n",
    "begin([程式開始]) \n",
    "stop([程式結束])\n",
    "input[/輸入成績 g/]\n",
    "decision{g >= 60}\n",
    "r1[\"cout << &quot及格&quot << endl;\"]\n",
    "r2[\"cout << &quot不及格&quot << endl;\"]\n",
    "\n",
    "begin --> input --> decision\n",
    "decision -->|\"True\"| r1\n",
    "decision -->|\"False\"| r2\n",
    "\n",
    "r1 --> stop\n",
    "r2 --> stop\n",
    "```"
   ]
  },
  {
   "cell_type": "markdown",
   "id": "5159aee3-bad0-449b-93f7-bba717604605",
   "metadata": {},
   "source": [
    "[![](https://mermaid.ink/img/pako:eNp1kb9OwzAQxl_ldAOiUqrSDgyhdCpsTHSrO5jETS0ldnBsEEo7IiEq1E5sCBYEL4DUoeJpSAtvgeNQkEBs9333xz_f5RjIkKGPkaLpCHpdIog4YREX2_3187RYzj5up8XTdFADIjIt0429fpmv7u4HNSK4SI3uN96Xi-LycXU1Xy9eIWoMiAhZwDMuRR5BZx92dyZEqGaf2BeNhnYbtk6N1MXsevWwdGHpMRHGewRtt2r9Ln1b3Pxb_QUN9XoHHJCLNgQ_LKU9JthThhEcg2r-SR3SOKtyrXKsarpJ5ddLpm-BHiZMJZSHdnk5EQAE9YglttW34VAqlmmCXpUZxvI8GFFlHfAht05g1BlzimDMBaPKCruhiR1s0pBqdhByLRX62rJ6SI2Wxxci2OiqpsupPVyC_rCk9pC5nqPqpO6yk0-0K7RW)](https://mermaid.live/edit#pako:eNp1kb9OwzAQxl_ldAOiUqrSDgyhdCpsTHSrO5jETS0ldnBsEEo7IiEq1E5sCBYEL4DUoeJpSAtvgeNQkEBs9333xz_f5RjIkKGPkaLpCHpdIog4YREX2_3187RYzj5up8XTdFADIjIt0429fpmv7u4HNSK4SI3uN96Xi-LycXU1Xy9eIWoMiAhZwDMuRR5BZx92dyZEqGaf2BeNhnYbtk6N1MXsevWwdGHpMRHGewRtt2r9Ln1b3Pxb_QUN9XoHHJCLNgQ_LKU9JthThhEcg2r-SR3SOKtyrXKsarpJ5ddLpm-BHiZMJZSHdnk5EQAE9YglttW34VAqlmmCXpUZxvI8GFFlHfAht05g1BlzimDMBaPKCruhiR1s0pBqdhByLRX62rJ6SI2Wxxci2OiqpsupPVyC_rCk9pC5nqPqpO6yk0-0K7RW)"
   ]
  },
  {
   "cell_type": "code",
   "execution_count": 3,
   "id": "1cfbf2fc-14be-473b-b7ca-2b35c6dafa10",
   "metadata": {},
   "outputs": [],
   "source": [
    "// 08170875-陳家瑋\n",
    "// include libraries\n",
    "#include<iostream>\n",
    "// bring everything in the namespace into scope\n",
    "using namespace std;"
   ]
  },
  {
   "cell_type": "code",
   "execution_count": 4,
   "id": "e4964334-e8e0-4f77-869a-9ce22a4f3068",
   "metadata": {},
   "outputs": [
    {
     "name": "stdout",
     "output_type": "stream",
     "text": [
      "成績: \n"
     ]
    },
    {
     "name": "stdin",
     "output_type": "stream",
     "text": [
      " 100\n"
     ]
    },
    {
     "name": "stdout",
     "output_type": "stream",
     "text": [
      "及格\n"
     ]
    }
   ],
   "source": [
    "float g;\n",
    "cout << \"成績: \" << endl;\n",
    "cin >> g;\n",
    "if (g >= 60)\n",
    "{\n",
    "    cout << \"及格\" << endl;\n",
    "}\n",
    "else\n",
    "{\n",
    "    cout << \"不及格\" << endl;\n",
    "}"
   ]
  },
  {
   "cell_type": "code",
   "execution_count": 5,
   "id": "70ace219-ffbb-4556-bd84-6facf899e421",
   "metadata": {},
   "outputs": [
    {
     "name": "stdout",
     "output_type": "stream",
     "text": [
      "finished at: 2022-09-30 22:07:00\n"
     ]
    }
   ],
   "source": [
    "!echo \"finished at: $(date +%F\\ %T)\""
   ]
  }
 ],
 "metadata": {
  "kernelspec": {
   "display_name": "C++14",
   "language": "C++14",
   "name": "xcpp14"
  },
  "language_info": {
   "codemirror_mode": "text/x-c++src",
   "file_extension": ".cpp",
   "mimetype": "text/x-c++src",
   "name": "c++",
   "version": "14"
  }
 },
 "nbformat": 4,
 "nbformat_minor": 5
}
