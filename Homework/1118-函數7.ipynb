{
 "cells": [
  {
   "cell_type": "markdown",
   "id": "e8237475-dbf6-4e02-aead-1f19af184921",
   "metadata": {},
   "source": [
    "# 程式設計（一）作業"
   ]
  },
  {
   "cell_type": "markdown",
   "id": "57297e2b-ae3b-471b-b8e3-5d3a79979249",
   "metadata": {},
   "source": [
    "- **截止日期：**11/25\n",
    "- **目標：**函數"
   ]
  },
  {
   "cell_type": "markdown",
   "id": "0e351128-b749-46be-9838-a3c215df2bf9",
   "metadata": {},
   "source": [
    "<div style=\"display: flex; flex-direction: row-reverse; width: 100%\">\n",
    "<p style=\"text-align: left; margin-left: auto\">\n",
    "    姓名：陳家瑋<br>\n",
    "    學號：08170875\n",
    "</p>\n",
    "</div>"
   ]
  },
  {
   "cell_type": "markdown",
   "id": "99a36160-c08f-4216-96d1-0edd530f7e5b",
   "metadata": {},
   "source": [
    "<div class=\"alert alert-block alert-info\">\n",
    "    extra: 輸入一整數 n，用\"*\"畫出一個 n 層的金字塔。\n",
    "</div>"
   ]
  },
  {
   "attachments": {
    "107e198b-0d4a-47bd-8506-8edee506bfd4.png": {
     "image/png": "[encoded data removed]"
    }
   },
   "cell_type": "markdown",
   "id": "3f74eda0-9a63-49f1-b220-5f66e086a2be",
   "metadata": {},
   "source": [
    "![CleanShot 2022-11-26 at 20.14.29.png](attachment:107e198b-0d4a-47bd-8506-8edee506bfd4.png)"
   ]
  },
  {
   "cell_type": "code",
   "execution_count": null,
   "id": "34dd1cc3-4248-4f44-b766-bbb729acf5fc",
   "metadata": {},
   "outputs": [
    {
     "name": "stdout",
     "output_type": "stream",
     "text": [
      "start at: 2022-11-26 16:29:41\n"
     ]
    }
   ],
   "source": [
    "!echo \"start at: $(date +%F\\ %T)\""
   ]
  },
  {
   "cell_type": "code",
   "execution_count": 16,
   "id": "4738572e-9d8a-47a4-a678-251d904a0727",
   "metadata": {},
   "outputs": [],
   "source": [
    "// 08170875-陳家瑋-HW-Extra\n",
    "#include <iostream>\n",
    "using namespace std;"
   ]
  },
  {
   "cell_type": "code",
   "execution_count": 17,
   "id": "f0a8f5dc-7c69-4e7c-b3a0-813fa43620b9",
   "metadata": {},
   "outputs": [],
   "source": [
    "void prime(int x)\n",
    "{\n",
    "    cout << \"輸入一整數：\" << x << endl;\n",
    "    for (int i = 1; i <= x; i++)\n",
    "    {\n",
    "        // 空白上三角\n",
    "        for (int j = 0; j < (x - i); j++)\n",
    "        {\n",
    "            cout << \" \";\n",
    "        }\n",
    "        \n",
    "        // 2n - 1 個星星\n",
    "        for (int k = 0; k < (2 * i - 1); k++)\n",
    "        {\n",
    "            cout << \"*\";\n",
    "        }\n",
    "        cout << endl;\n",
    "    }\n",
    "}"
   ]
  },
  {
   "cell_type": "code",
   "execution_count": 18,
   "id": "6f352152-4d4f-4489-8dbe-6cc2551b2b98",
   "metadata": {},
   "outputs": [
    {
     "name": "stdout",
     "output_type": "stream",
     "text": [
      "輸入一整數：3\n",
      "  *\n",
      " ***\n",
      "*****\n"
     ]
    }
   ],
   "source": [
    "prime(3);"
   ]
  },
  {
   "cell_type": "code",
   "execution_count": 19,
   "id": "8428068b-c5e9-4422-98cf-9f341bdb30d7",
   "metadata": {},
   "outputs": [
    {
     "name": "stdout",
     "output_type": "stream",
     "text": [
      "輸入一整數：5\n",
      "    *\n",
      "   ***\n",
      "  *****\n",
      " *******\n",
      "*********\n"
     ]
    }
   ],
   "source": [
    "prime(5);"
   ]
  },
  {
   "cell_type": "code",
   "execution_count": null,
   "id": "8c5dae77-23c2-4580-9447-6a84c87e9370",
   "metadata": {},
   "outputs": [
    {
     "name": "stdout",
     "output_type": "stream",
     "text": [
      "finished at: 2022-11-26 16:56:12\n"
     ]
    }
   ],
   "source": [
    "!echo \"finished at: $(date +%F\\ %T)\""
   ]
  }
 ],
 "metadata": {
  "kernelspec": {
   "display_name": "C++14",
   "language": "C++14",
   "name": "xcpp14"
  },
  "language_info": {
   "codemirror_mode": "text/x-c++src",
   "file_extension": ".cpp",
   "mimetype": "text/x-c++src",
   "name": "c++",
   "version": "14"
  }
 },
 "nbformat": 4,
 "nbformat_minor": 5
}
