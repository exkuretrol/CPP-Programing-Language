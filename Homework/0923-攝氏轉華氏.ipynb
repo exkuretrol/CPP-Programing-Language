{
 "cells": [
  {
   "cell_type": "markdown",
   "id": "e8237475-dbf6-4e02-aead-1f19af184921",
   "metadata": {},
   "source": [
    "# 程式設計（一）作業"
   ]
  },
  {
   "cell_type": "markdown",
   "id": "57297e2b-ae3b-471b-b8e3-5d3a79979249",
   "metadata": {},
   "source": [
    "- **截止日期：**09/23\n",
    "- **目標：**攝氏轉華氏"
   ]
  },
  {
   "cell_type": "markdown",
   "id": "0e351128-b749-46be-9838-a3c215df2bf9",
   "metadata": {},
   "source": [
    "<div style=\"display: flex; flex-direction: row-reverse; width: 100%\">\n",
    "<p style=\"text-align: left; margin-left: auto\">\n",
    "    姓名：陳家瑋<br>\n",
    "    學號：08170875\n",
    "</p>\n",
    "</div>"
   ]
  },
  {
   "cell_type": "markdown",
   "id": "99a36160-c08f-4216-96d1-0edd530f7e5b",
   "metadata": {},
   "source": [
    "> 輸入攝氏溫度(C)(可使用整數int或浮點數float型態做宣告)，輸出華氏溫度(F)，\n",
    ">\n",
    "> 攝氏轉華氏公式: C*9/5+32，\n",
    ">\n",
    "> 請截圖(包含程式碼+執行結果)上傳。\n",
    ">\n",
    "> 第1行需註解學號-姓名。\n"
   ]
  },
  {
   "cell_type": "code",
   "execution_count": 1,
   "id": "c17d029a-4975-4f5c-a69c-415b0c3e4608",
   "metadata": {},
   "outputs": [
    {
     "name": "stdout",
     "output_type": "stream",
     "text": [
      "start at: 2022-09-30 21:32:44\n"
     ]
    }
   ],
   "source": [
    "!echo \"start at: $(date +%F\\ %T)\""
   ]
  },
  {
   "cell_type": "code",
   "execution_count": 2,
   "id": "1cfbf2fc-14be-473b-b7ca-2b35c6dafa10",
   "metadata": {},
   "outputs": [],
   "source": [
    "// 08170875-陳家瑋\n",
    "// include libraries\n",
    "#include<iostream>\n",
    "// bring everything in the namespace into scope\n",
    "using namespace std;"
   ]
  },
  {
   "cell_type": "code",
   "execution_count": 3,
   "id": "e4964334-e8e0-4f77-869a-9ce22a4f3068",
   "metadata": {},
   "outputs": [
    {
     "name": "stdout",
     "output_type": "stream",
     "text": [
      "請輸入攝氏溫度: \n"
     ]
    },
    {
     "name": "stdin",
     "output_type": "stream",
     "text": [
      " 87\n"
     ]
    },
    {
     "name": "stdout",
     "output_type": "stream",
     "text": [
      "華氏溫度為: \n",
      "188.6"
     ]
    }
   ],
   "source": [
    "float C;\n",
    "cout << \"請輸入攝氏溫度: \" << endl;\n",
    "cin >> C;\n",
    "cout << \"華氏溫度為: \" << endl;\n",
    "cout << C * 9 / 5 + 32;"
   ]
  },
  {
   "cell_type": "code",
   "execution_count": 4,
   "id": "70ace219-ffbb-4556-bd84-6facf899e421",
   "metadata": {},
   "outputs": [
    {
     "name": "stdout",
     "output_type": "stream",
     "text": [
      "finished at: 2022-09-30 21:35:41\n"
     ]
    }
   ],
   "source": [
    "!echo \"finished at: $(date +%F\\ %T)\""
   ]
  }
 ],
 "metadata": {
  "kernelspec": {
   "display_name": "C++14",
   "language": "C++14",
   "name": "xcpp14"
  },
  "language_info": {
   "codemirror_mode": "text/x-c++src",
   "file_extension": ".cpp",
   "mimetype": "text/x-c++src",
   "name": "c++",
   "version": "14"
  }
 },
 "nbformat": 4,
 "nbformat_minor": 5
}
