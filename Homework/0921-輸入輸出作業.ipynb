{
 "cells": [
  {
   "cell_type": "markdown",
   "id": "536a27bf-d189-4c52-aade-df6b22234776",
   "metadata": {},
   "source": [
    "# 程式設計（一）作業"
   ]
  },
  {
   "cell_type": "markdown",
   "id": "30f36027-ae67-4bda-8dc1-209469ddcd08",
   "metadata": {},
   "source": [
    "- **截止日期：**09/21\n",
    "- **目標：**輸入輸出"
   ]
  },
  {
   "cell_type": "markdown",
   "id": "d4fba11d-8bce-4d99-ac80-7d6a6f53bcb9",
   "metadata": {},
   "source": [
    "<div style=\"display: flex; flex-direction: row-reverse; width: 100%\">\n",
    "<p style=\"text-align: left; margin-left: auto\">\n",
    "    姓名：陳家瑋<br>\n",
    "    學號：08170875\n",
    "</p>\n",
    "</div>"
   ]
  },
  {
   "cell_type": "code",
   "execution_count": 11,
   "id": "c0df440a-6b13-4514-8a26-86daa26d9fcb",
   "metadata": {},
   "outputs": [],
   "source": [
    "// include libraries\n",
    "#include<iostream>\n",
    "// bring everything in the namespace into scope\n",
    "using namespace std;"
   ]
  },
  {
   "cell_type": "markdown",
   "id": "7ec45be4-fd7b-4b2d-8392-8bc6cd0e7c7e",
   "metadata": {},
   "source": [
    "<div class=\"alert alert-block alert-info\">\n",
    "    p.9 練習\n",
    "</div>"
   ]
  },
  {
   "cell_type": "markdown",
   "id": "66594b91-6d49-4c3f-b304-5291397811a9",
   "metadata": {},
   "source": [
    "$1.$"
   ]
  },
  {
   "cell_type": "code",
   "execution_count": 2,
   "id": "622733ec-d284-4d37-9613-20b10063cf68",
   "metadata": {},
   "outputs": [
    {
     "name": "stdout",
     "output_type": "stream",
     "text": [
      "@______@\n",
      "Hello, Guys!\n"
     ]
    }
   ],
   "source": [
    "cout << \"@______@\" << endl;\n",
    "cout << \"Hello, Guys!\" << endl;"
   ]
  },
  {
   "cell_type": "markdown",
   "id": "55c72766-4743-41e1-9f68-07f9c22628e1",
   "metadata": {},
   "source": [
    "$2.$"
   ]
  },
  {
   "cell_type": "code",
   "execution_count": 3,
   "id": "6ea673e0-197e-4da6-a352-94a7075af435",
   "metadata": {},
   "outputs": [
    {
     "name": "stdout",
     "output_type": "stream",
     "text": [
      "班級:統資四乙\n",
      "學號:08170875\n",
      "名字:陳家瑋\n"
     ]
    }
   ],
   "source": [
    "cout << \"班級:統資四乙\" << endl;\n",
    "cout << \"學號:08170875\" << endl;\n",
    "cout << \"名字:陳家瑋\" << endl;"
   ]
  },
  {
   "cell_type": "markdown",
   "id": "052352c1-c10e-4612-823f-11e271e154e7",
   "metadata": {},
   "source": [
    "---"
   ]
  },
  {
   "cell_type": "markdown",
   "id": "14e01adc-561e-4685-9099-68efb03d61ab",
   "metadata": {},
   "source": [
    "<div class=\"alert alert-block alert-info\">\n",
    "p.13 練習\n",
    "</div> "
   ]
  },
  {
   "cell_type": "code",
   "execution_count": 5,
   "id": "4292772a-851b-4ffa-86e6-35644ea32601",
   "metadata": {},
   "outputs": [
    {
     "name": "stdout",
     "output_type": "stream",
     "text": [
      "我的學號:08170875\n"
     ]
    }
   ],
   "source": [
    "cout << \"我的學號:\" << \"08170875\" << endl;"
   ]
  },
  {
   "cell_type": "markdown",
   "id": "946cc597-592f-4a54-8007-65788d5c1a19",
   "metadata": {},
   "source": [
    "---"
   ]
  },
  {
   "cell_type": "markdown",
   "id": "438cd681-f78a-4666-8f87-82c0dd2fc98a",
   "metadata": {},
   "source": [
    "<div class=\"alert alert-block alert-info\">\n",
    "p.17 練習\n",
    "</div>"
   ]
  },
  {
   "cell_type": "code",
   "execution_count": 6,
   "id": "5f87f082-d51b-4724-bd82-d4ae91a1cdb4",
   "metadata": {},
   "outputs": [
    {
     "name": "stdout",
     "output_type": "stream",
     "text": [
      "請輸入學號\n"
     ]
    },
    {
     "name": "stdin",
     "output_type": "stream",
     "text": [
      " 08170875\n"
     ]
    },
    {
     "name": "stdout",
     "output_type": "stream",
     "text": [
      "學號:\n",
      "08170875"
     ]
    }
   ],
   "source": [
    "string s;\n",
    "cout << \"請輸入學號\" << endl;\n",
    "cin >> s;\n",
    "cout << \"學號:\" << endl;\n",
    "cout << s;"
   ]
  },
  {
   "cell_type": "markdown",
   "id": "7e9a75e4-36b1-42f8-a667-c6d455619028",
   "metadata": {},
   "source": [
    "---"
   ]
  },
  {
   "cell_type": "markdown",
   "id": "dc430ed8-f04b-4990-9cb3-df82aab5066a",
   "metadata": {},
   "source": [
    "<div class=\"alert alert-block alert-info\">\n",
    "p.18 課本 3-21\n",
    "</div>"
   ]
  },
  {
   "cell_type": "markdown",
   "id": "99ef5262-5425-4db6-aacc-c41713650e1a",
   "metadata": {},
   "source": [
    "$12.~$撰寫一程式碼，使用者輸入整數 num，輸出 - num。"
   ]
  },
  {
   "cell_type": "code",
   "execution_count": 8,
   "id": "fa121202-0dcd-4d17-b489-00b8c3576926",
   "metadata": {},
   "outputs": [
    {
     "name": "stdin",
     "output_type": "stream",
     "text": [
      " 123213\n"
     ]
    },
    {
     "name": "stdout",
     "output_type": "stream",
     "text": [
      "-123213"
     ]
    }
   ],
   "source": [
    "int num;\n",
    "cin >> num;\n",
    "cout << - num;"
   ]
  },
  {
   "cell_type": "markdown",
   "id": "5f71ebf5-4325-4160-8bae-7b97c1021706",
   "metadata": {},
   "source": [
    "$13.~$撰寫一程式碼，使用者輸入浮點數 f，輸出 f\\*f（使用 float 宣告）。"
   ]
  },
  {
   "cell_type": "code",
   "execution_count": 9,
   "id": "f51fa3b4-150b-4698-b51e-54e389d10b57",
   "metadata": {},
   "outputs": [
    {
     "name": "stdin",
     "output_type": "stream",
     "text": [
      " 3.1415926\n"
     ]
    },
    {
     "name": "stdout",
     "output_type": "stream",
     "text": [
      "9.8696"
     ]
    }
   ],
   "source": [
    "float f;\n",
    "cin >> f;\n",
    "cout << f*f;"
   ]
  },
  {
   "cell_type": "markdown",
   "id": "962bbf53-c39e-4902-8087-d8a55159e25d",
   "metadata": {},
   "source": [
    "$14.~$ 撰寫一程式碼，使用者輸入 2 個整數 a、b，輸出 b - a。"
   ]
  },
  {
   "cell_type": "code",
   "execution_count": 10,
   "id": "16f7e1e1-fac4-4bca-a220-3edaa2bf5e36",
   "metadata": {},
   "outputs": [
    {
     "name": "stdin",
     "output_type": "stream",
     "text": [
      " 3 2\n"
     ]
    },
    {
     "name": "stdout",
     "output_type": "stream",
     "text": [
      "-1"
     ]
    }
   ],
   "source": [
    "int a, b;\n",
    "cin >> a >> b;\n",
    "cout << b - a;"
   ]
  },
  {
   "cell_type": "code",
   "execution_count": 23,
   "id": "e79f07fe-d9dd-4b83-8ff1-683abc9e3a5a",
   "metadata": {},
   "outputs": [
    {
     "name": "stdout",
     "output_type": "stream",
     "text": [
      "finished at: 2022-09-30 21:16:53\n"
     ]
    }
   ],
   "source": [
    "!echo \"finished at: $(date +%F\\ %T)\""
   ]
  }
 ],
 "metadata": {
  "kernelspec": {
   "display_name": "C++14",
   "language": "C++14",
   "name": "xcpp14"
  },
  "language_info": {
   "codemirror_mode": "text/x-c++src",
   "file_extension": ".cpp",
   "mimetype": "text/x-c++src",
   "name": "c++",
   "version": "14"
  }
 },
 "nbformat": 4,
 "nbformat_minor": 5
}
