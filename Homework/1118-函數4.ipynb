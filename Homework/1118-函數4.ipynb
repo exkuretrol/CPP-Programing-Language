{
 "cells": [
  {
   "cell_type": "markdown",
   "id": "e8237475-dbf6-4e02-aead-1f19af184921",
   "metadata": {},
   "source": [
    "# 程式設計（一）作業"
   ]
  },
  {
   "cell_type": "markdown",
   "id": "57297e2b-ae3b-471b-b8e3-5d3a79979249",
   "metadata": {},
   "source": [
    "- **截止日期：**11/18\n",
    "- **目標：**函數"
   ]
  },
  {
   "cell_type": "markdown",
   "id": "0e351128-b749-46be-9838-a3c215df2bf9",
   "metadata": {},
   "source": [
    "<div style=\"display: flex; flex-direction: row-reverse; width: 100%\">\n",
    "<p style=\"text-align: left; margin-left: auto\">\n",
    "    姓名：陳家瑋<br>\n",
    "    學號：08170875\n",
    "</p>\n",
    "</div>"
   ]
  },
  {
   "cell_type": "markdown",
   "id": "99a36160-c08f-4216-96d1-0edd530f7e5b",
   "metadata": {},
   "source": [
    "<div class=\"alert alert-block alert-info\">\n",
    "    3-2: 輸入正整數 n，輸出 n 個 Fibonacci Numbers(費氏數列)(1, 1, 2, 3, 5, 8, 13, 21, 34, ...)，且程式須能夠多次執行。\n",
    "</div>"
   ]
  },
  {
   "cell_type": "markdown",
   "id": "c5f26940-6248-41fd-922d-2ca5720359bd",
   "metadata": {},
   "source": [
    "費氏數列是以遞迴的方法來定義，定義如下：\n",
    "$$\n",
    "\\begin{align}\n",
    "    F_0 &= 0 \\\\\n",
    "    F_1 &= 1 \\\\\n",
    "    F_n &= F_{n - 1} + F_{n - 2} \\quad (n \\geq 2)\n",
    "\\end{align}\n",
    "$$"
   ]
  },
  {
   "cell_type": "code",
   "execution_count": 2,
   "id": "34dd1cc3-4248-4f44-b766-bbb729acf5fc",
   "metadata": {},
   "outputs": [
    {
     "name": "stdout",
     "output_type": "stream",
     "text": [
      "start at: 2022-11-26 14:39:37\n"
     ]
    }
   ],
   "source": [
    "!echo \"start at: $(date +%F\\ %T)\""
   ]
  },
  {
   "cell_type": "code",
   "execution_count": 1,
   "id": "4738572e-9d8a-47a4-a678-251d904a0727",
   "metadata": {},
   "outputs": [],
   "source": [
    "// 08170875-陳家瑋-HW3-2\n",
    "#include <iostream>\n",
    "using namespace std;"
   ]
  },
  {
   "cell_type": "code",
   "execution_count": 2,
   "id": "bba63034-2312-47ad-8354-8c63a4356a4f",
   "metadata": {},
   "outputs": [],
   "source": [
    "int fibnum(int x)\n",
    "{\n",
    "    if (x == 0) return 0;\n",
    "    if (x == 1) return 1;\n",
    "    return fibnum(x - 1) + fibnum(x - 2);\n",
    "}"
   ]
  },
  {
   "cell_type": "code",
   "execution_count": 12,
   "id": "f0a8f5dc-7c69-4e7c-b3a0-813fa43620b9",
   "metadata": {},
   "outputs": [],
   "source": [
    "void fib()\n",
    "{\n",
    "    int f;\n",
    "    while(cin >> f)\n",
    "    {\n",
    "        if (f == -1) break;\n",
    "        cout << \"輸入正整數： \" << f << endl;\n",
    "        for (int i = 1; i <= f; i++) cout << fibnum(i) << \", \";\n",
    "    }\n",
    "}"
   ]
  },
  {
   "cell_type": "code",
   "execution_count": 14,
   "id": "c9dac2cc-20f2-4e94-b967-b2b5e224abf5",
   "metadata": {},
   "outputs": [
    {
     "name": "stdin",
     "output_type": "stream",
     "text": [
      " 6\n"
     ]
    },
    {
     "name": "stdout",
     "output_type": "stream",
     "text": [
      "輸入正整數： 6\n",
      "1, 1, 2, 3, 5, 8, "
     ]
    },
    {
     "name": "stdin",
     "output_type": "stream",
     "text": [
      " 2\n"
     ]
    },
    {
     "name": "stdout",
     "output_type": "stream",
     "text": [
      "輸入正整數： 2\n",
      "1, 1, "
     ]
    },
    {
     "name": "stdin",
     "output_type": "stream",
     "text": [
      " 4\n"
     ]
    },
    {
     "name": "stdout",
     "output_type": "stream",
     "text": [
      "輸入正整數： 4\n",
      "1, 1, 2, 3, "
     ]
    },
    {
     "name": "stdin",
     "output_type": "stream",
     "text": [
      " -1\n"
     ]
    }
   ],
   "source": [
    "fib()"
   ]
  },
  {
   "cell_type": "code",
   "execution_count": 15,
   "id": "8c5dae77-23c2-4580-9447-6a84c87e9370",
   "metadata": {},
   "outputs": [
    {
     "name": "stdout",
     "output_type": "stream",
     "text": [
      "finished at: 2022-11-26 15:05:05\n"
     ]
    }
   ],
   "source": [
    "!echo \"finished at: $(date +%F\\ %T)\""
   ]
  }
 ],
 "metadata": {
  "kernelspec": {
   "display_name": "C++14",
   "language": "C++14",
   "name": "xcpp14"
  },
  "language_info": {
   "codemirror_mode": "text/x-c++src",
   "file_extension": ".cpp",
   "mimetype": "text/x-c++src",
   "name": "c++",
   "version": "14"
  }
 },
 "nbformat": 4,
 "nbformat_minor": 5
}
