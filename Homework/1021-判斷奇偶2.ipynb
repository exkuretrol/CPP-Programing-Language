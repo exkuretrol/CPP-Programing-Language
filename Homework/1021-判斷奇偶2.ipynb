{
 "cells": [
  {
   "cell_type": "markdown",
   "id": "e8237475-dbf6-4e02-aead-1f19af184921",
   "metadata": {},
   "source": [
    "# 程式設計（一）作業"
   ]
  },
  {
   "cell_type": "markdown",
   "id": "57297e2b-ae3b-471b-b8e3-5d3a79979249",
   "metadata": {},
   "source": [
    "- **截止日期：**10/21\n",
    "- **目標：**流程處理"
   ]
  },
  {
   "cell_type": "markdown",
   "id": "0e351128-b749-46be-9838-a3c215df2bf9",
   "metadata": {},
   "source": [
    "<div style=\"display: flex; flex-direction: row-reverse; width: 100%\">\n",
    "<p style=\"text-align: left; margin-left: auto\">\n",
    "    姓名：陳家瑋<br>\n",
    "    學號：08170875\n",
    "</p>\n",
    "</div>"
   ]
  },
  {
   "cell_type": "code",
   "execution_count": 2,
   "id": "34dd1cc3-4248-4f44-b766-bbb729acf5fc",
   "metadata": {},
   "outputs": [
    {
     "name": "stdout",
     "output_type": "stream",
     "text": [
      "start at: 2022-10-21 14:25:44\n"
     ]
    }
   ],
   "source": [
    "!echo \"start at: $(date +%F\\ %T)\""
   ]
  },
  {
   "cell_type": "code",
   "execution_count": 1,
   "id": "41f81793-3d7b-47be-b342-de594c8b765c",
   "metadata": {},
   "outputs": [],
   "source": [
    "#include <iostream>\n",
    "using namespace std;"
   ]
  },
  {
   "cell_type": "markdown",
   "id": "f43583c4-8c7b-43c8-b9e9-b4637db258bf",
   "metadata": {},
   "source": [
    "<div class=\"alert alert-block alert-info\">\n",
    "    HW 1-2: 試撰寫一程式，直接設定整數值 height 與 weight，分別代表某個人的身高（公尺）與體重（公斤），接著完成下列問題：\n",
    "</div>\n",
    "\n",
    "1. 利用 BMI = weight / height^2 計算此人的身體質量指數 BMI 值。\n",
    "2. 根據 BMI 值判斷他的體重是不是過重，理想體重範圍為 18.5 ≦ BMI < 24。\n",
    "    1. 當 BMI 值為理想體重範圍時，印出\"體重標準\"。\n",
    "    2. BMI 值若是小於 18.5，印出\"體重過輕\"。\n",
    "    3. BMI 值若是大於等於 24，印出\"體重過重\"。"
   ]
  },
  {
   "cell_type": "code",
   "execution_count": 6,
   "id": "aa3f68f7-56d4-4ebf-9670-23c60f84ddde",
   "metadata": {},
   "outputs": [
    {
     "name": "stdin",
     "output_type": "stream",
     "text": [
      " 1.7 80\n"
     ]
    },
    {
     "name": "stdout",
     "output_type": "stream",
     "text": [
      "身高=1.7公尺\n",
      "體重=80公斤\n",
      "BMI=27.6817\n",
      "體重過重"
     ]
    }
   ],
   "source": [
    "// 08170875-陳家瑋-HW1-2\n",
    "void BMI()\n",
    "{\n",
    "    // meter, kilogram\n",
    "    float h, w;\n",
    "\n",
    "    // assign height and weight\n",
    "    cin >> h >> w;\n",
    "    cout << \"身高=\" << h << \"公尺\" << endl;\n",
    "    cout << \"體重=\" << w << \"公斤\" << endl;\n",
    "    // calc BMI\n",
    "    float bmi = w / (h * h);\n",
    "\n",
    "    // initialize variable\n",
    "    string result = \"體重\";\n",
    "\n",
    "    if (bmi > 24)\n",
    "    {\n",
    "        result += \"過重\";\n",
    "    }\n",
    "    else if (bmi >= 18.5)\n",
    "    {\n",
    "        result += \"標準\";\n",
    "    }\n",
    "    else\n",
    "    {\n",
    "        result += \"過輕\";\n",
    "    }\n",
    "\n",
    "    cout << \"BMI=\" << bmi << endl << result;\n",
    "}\n",
    "BMI()"
   ]
  },
  {
   "cell_type": "code",
   "execution_count": 14,
   "id": "730a7ec6-d6da-47c1-a5e7-c61ab701b181",
   "metadata": {},
   "outputs": [
    {
     "name": "stdin",
     "output_type": "stream",
     "text": [
      " 1.7 60\n"
     ]
    },
    {
     "name": "stdout",
     "output_type": "stream",
     "text": [
      "身高=1.7公尺\n",
      "體重=60公斤\n",
      "BMI=20.7612\n",
      "體重標準"
     ]
    }
   ],
   "source": [
    "BMI();"
   ]
  },
  {
   "cell_type": "code",
   "execution_count": 4,
   "id": "87ad4b1d-8d52-460f-8c51-629acb0446bb",
   "metadata": {},
   "outputs": [
    {
     "name": "stdin",
     "output_type": "stream",
     "text": [
      " 1.7 50\n"
     ]
    },
    {
     "name": "stdout",
     "output_type": "stream",
     "text": [
      "身高=1.7公尺\n",
      "體重=50公斤\n",
      "BMI=17.301\n",
      "體重過輕"
     ]
    }
   ],
   "source": [
    "BMI();"
   ]
  },
  {
   "cell_type": "code",
   "execution_count": 5,
   "id": "8c5dae77-23c2-4580-9447-6a84c87e9370",
   "metadata": {},
   "outputs": [
    {
     "name": "stdout",
     "output_type": "stream",
     "text": [
      "finished at: 2022-10-21 14:43:19\n"
     ]
    }
   ],
   "source": [
    "!echo \"finished at: $(date +%F\\ %T)\""
   ]
  }
 ],
 "metadata": {
  "kernelspec": {
   "display_name": "C++14",
   "language": "C++14",
   "name": "xcpp14"
  },
  "language_info": {
   "codemirror_mode": "text/x-c++src",
   "file_extension": ".cpp",
   "mimetype": "text/x-c++src",
   "name": "c++",
   "version": "14"
  }
 },
 "nbformat": 4,
 "nbformat_minor": 5
}
