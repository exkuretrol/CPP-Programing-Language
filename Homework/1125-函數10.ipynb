{
 "cells": [
  {
   "cell_type": "markdown",
   "id": "e8237475-dbf6-4e02-aead-1f19af184921",
   "metadata": {},
   "source": [
    "# 程式設計（一）作業"
   ]
  },
  {
   "cell_type": "markdown",
   "id": "57297e2b-ae3b-471b-b8e3-5d3a79979249",
   "metadata": {},
   "source": [
    "- **截止日期：**11/25\n",
    "- **目標：**函數"
   ]
  },
  {
   "cell_type": "markdown",
   "id": "0e351128-b749-46be-9838-a3c215df2bf9",
   "metadata": {},
   "source": [
    "<div style=\"display: flex; flex-direction: row-reverse; width: 100%\">\n",
    "<p style=\"text-align: left; margin-left: auto\">\n",
    "    姓名：陳家瑋<br>\n",
    "    學號：08170875\n",
    "</p>\n",
    "</div>"
   ]
  },
  {
   "cell_type": "markdown",
   "id": "99a36160-c08f-4216-96d1-0edd530f7e5b",
   "metadata": {},
   "source": [
    "<div class=\"alert alert-block alert-info\">\n",
    "    2: 請寫一函式(函式不能有輸出，要在 main)判斷數值是否為質\n",
    "數，並於主程式輸入整數 n，依序輸出 n 個質數，且程式須能夠多\n",
    "次執行。\n",
    "</div>"
   ]
  },
  {
   "attachments": {
    "a46dd097-6183-41c2-97b1-f04640b2cf5b.png": {
     "image/png": "[encoded data removed]"
    }
   },
   "cell_type": "markdown",
   "id": "3f74eda0-9a63-49f1-b220-5f66e086a2be",
   "metadata": {},
   "source": [
    "![CleanShot 2022-11-26 at 15.53.47.png](attachment:a46dd097-6183-41c2-97b1-f04640b2cf5b.png)"
   ]
  },
  {
   "cell_type": "code",
   "execution_count": 1,
   "id": "34dd1cc3-4248-4f44-b766-bbb729acf5fc",
   "metadata": {},
   "outputs": [
    {
     "name": "stdout",
     "output_type": "stream",
     "text": [
      "start at: 2022-11-26 15:53:56\n"
     ]
    }
   ],
   "source": [
    "!echo \"start at: $(date +%F\\ %T)\""
   ]
  },
  {
   "cell_type": "code",
   "execution_count": 2,
   "id": "4738572e-9d8a-47a4-a678-251d904a0727",
   "metadata": {},
   "outputs": [],
   "source": [
    "// 08170875-陳家瑋-HW2\n",
    "#include <iostream>\n",
    "using namespace std;"
   ]
  },
  {
   "cell_type": "code",
   "execution_count": 8,
   "id": "e6b2da3f-27bc-4d6e-b571-cf65ff5fbc7d",
   "metadata": {},
   "outputs": [],
   "source": [
    "/**\n",
    " * 回傳是否為一個質數\n",
    " * \n",
    " * @param n, 輸入數\n",
    " * @return bool, 如果為質數, 回傳 true, 反之亦然\n",
    " */"
   ]
  },
  {
   "cell_type": "code",
   "execution_count": 3,
   "id": "e0b2f727-11f4-4457-98e6-a16fc0eb37ec",
   "metadata": {},
   "outputs": [],
   "source": [
    "bool prime(int n)\n",
    "{\n",
    "    for (int i = 2; i < n; i++)\n",
    "    {\n",
    "        if (n % i == 0) return false;\n",
    "    }\n",
    "    return true;\n",
    "}"
   ]
  },
  {
   "cell_type": "code",
   "execution_count": 9,
   "id": "0abed616-8c00-4393-93f5-3223fc4553c0",
   "metadata": {},
   "outputs": [],
   "source": [
    "/**\n",
    " * 回傳指定質數的數量, 像是如果輸入 5, 則會回傳長度為 5 的質數\n",
    " * \n",
    " * @param n, 輸入數\n",
    " * @return void。\n",
    " */"
   ]
  },
  {
   "cell_type": "code",
   "execution_count": 4,
   "id": "f0a8f5dc-7c69-4e7c-b3a0-813fa43620b9",
   "metadata": {},
   "outputs": [],
   "source": [
    "void primeList(int n)\n",
    "{\n",
    "    int counter = 0;\n",
    "    cout << \"輸入一整數：\" << n << endl;\n",
    "    \n",
    "    for (int i = 2; 1; i++)\n",
    "    {\n",
    "        if (prime(i)) \n",
    "        {\n",
    "            cout << i << \" \";\n",
    "            counter++;\n",
    "        }\n",
    "        if (counter == n) break;\n",
    "    }\n",
    "}"
   ]
  },
  {
   "cell_type": "code",
   "execution_count": 10,
   "id": "f15aa13e-2312-402d-8c70-9536bee61c11",
   "metadata": {},
   "outputs": [],
   "source": [
    "/* 讓函式持續執行，直到輸入值為 -1\n",
    " *\n",
    " * @return void\n",
    " */"
   ]
  },
  {
   "cell_type": "code",
   "execution_count": 5,
   "id": "c4c0792f-e022-4eba-853e-571ef63443e8",
   "metadata": {},
   "outputs": [],
   "source": [
    "void p()\n",
    "{\n",
    "    int n;\n",
    "    while (cin >> n)\n",
    "    {\n",
    "        if (n == -1) break;\n",
    "        primeList(n);\n",
    "    }\n",
    "}"
   ]
  },
  {
   "cell_type": "code",
   "execution_count": 6,
   "id": "7a9b0efb-3cfa-46fb-a9d6-9e8f32d2db94",
   "metadata": {},
   "outputs": [
    {
     "name": "stdin",
     "output_type": "stream",
     "text": [
      " 6\n"
     ]
    },
    {
     "name": "stdout",
     "output_type": "stream",
     "text": [
      "輸入一整數：6\n",
      "2 3 5 7 11 13 "
     ]
    },
    {
     "name": "stdin",
     "output_type": "stream",
     "text": [
      " 10\n"
     ]
    },
    {
     "name": "stdout",
     "output_type": "stream",
     "text": [
      "輸入一整數：10\n",
      "2 3 5 7 11 13 17 19 23 29 "
     ]
    },
    {
     "name": "stdin",
     "output_type": "stream",
     "text": [
      " -1\n"
     ]
    }
   ],
   "source": [
    "p()"
   ]
  },
  {
   "cell_type": "code",
   "execution_count": 13,
   "id": "8c5dae77-23c2-4580-9447-6a84c87e9370",
   "metadata": {},
   "outputs": [
    {
     "name": "stdout",
     "output_type": "stream",
     "text": [
      "finished at: 2022-11-26 16:10:43\n"
     ]
    }
   ],
   "source": [
    "!echo \"finished at: $(date +%F\\ %T)\""
   ]
  }
 ],
 "metadata": {
  "kernelspec": {
   "display_name": "C++14",
   "language": "C++14",
   "name": "xcpp14"
  },
  "language_info": {
   "codemirror_mode": "text/x-c++src",
   "file_extension": ".cpp",
   "mimetype": "text/x-c++src",
   "name": "c++",
   "version": "14"
  }
 },
 "nbformat": 4,
 "nbformat_minor": 5
}
