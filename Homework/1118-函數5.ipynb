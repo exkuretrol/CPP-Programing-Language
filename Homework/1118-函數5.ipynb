{
 "cells": [
  {
   "cell_type": "markdown",
   "id": "e8237475-dbf6-4e02-aead-1f19af184921",
   "metadata": {},
   "source": [
    "# 程式設計（一）作業"
   ]
  },
  {
   "cell_type": "markdown",
   "id": "57297e2b-ae3b-471b-b8e3-5d3a79979249",
   "metadata": {},
   "source": [
    "- **截止日期：**11/25\n",
    "- **目標：**函數"
   ]
  },
  {
   "cell_type": "markdown",
   "id": "0e351128-b749-46be-9838-a3c215df2bf9",
   "metadata": {},
   "source": [
    "<div style=\"display: flex; flex-direction: row-reverse; width: 100%\">\n",
    "<p style=\"text-align: left; margin-left: auto\">\n",
    "    姓名：陳家瑋<br>\n",
    "    學號：08170875\n",
    "</p>\n",
    "</div>"
   ]
  },
  {
   "cell_type": "markdown",
   "id": "99a36160-c08f-4216-96d1-0edd530f7e5b",
   "metadata": {},
   "source": [
    "<div class=\"alert alert-block alert-info\">\n",
    "    1-1: 輸入一整數 n，用 \"*\" 畫出一個 n 層的三角形。\n",
    "</div>"
   ]
  },
  {
   "attachments": {
    "f33d2410-cda8-4837-b55f-91744fdbce43.png": {
     "image/png": "[encoded data removed]"
    }
   },
   "cell_type": "markdown",
   "id": "96cd6bd7-dacb-4944-aaf5-68b4b49e6eb1",
   "metadata": {},
   "source": [
    "![CleanShot 2022-11-26 at 15.41.23.png](attachment:f33d2410-cda8-4837-b55f-91744fdbce43.png)"
   ]
  },
  {
   "cell_type": "code",
   "execution_count": 1,
   "id": "34dd1cc3-4248-4f44-b766-bbb729acf5fc",
   "metadata": {},
   "outputs": [
    {
     "name": "stdout",
     "output_type": "stream",
     "text": [
      "start at: 2022-11-26 15:34:32\n"
     ]
    }
   ],
   "source": [
    "!echo \"start at: $(date +%F\\ %T)\""
   ]
  },
  {
   "cell_type": "code",
   "execution_count": 2,
   "id": "4738572e-9d8a-47a4-a678-251d904a0727",
   "metadata": {},
   "outputs": [],
   "source": [
    "// 08170875-陳家瑋-HW1-1\n",
    "#include <iostream>\n",
    "using namespace std;"
   ]
  },
  {
   "cell_type": "code",
   "execution_count": 16,
   "id": "f0a8f5dc-7c69-4e7c-b3a0-813fa43620b9",
   "metadata": {},
   "outputs": [],
   "source": [
    "void star(int x)\n",
    "{\n",
    "    cout << \"輸入一整數：\" << x << endl;\n",
    "    for (int i = x; i > 0; i--)\n",
    "    {\n",
    "        for (int j = 0; j < i; j++) cout << \"*\";\n",
    "        cout << endl;\n",
    "    }\n",
    "    \n",
    "}"
   ]
  },
  {
   "cell_type": "code",
   "execution_count": 17,
   "id": "c9dac2cc-20f2-4e94-b967-b2b5e224abf5",
   "metadata": {},
   "outputs": [
    {
     "name": "stdout",
     "output_type": "stream",
     "text": [
      "輸入一整數：4\n",
      "****\n",
      "***\n",
      "**\n",
      "*\n"
     ]
    }
   ],
   "source": [
    "star(4)"
   ]
  },
  {
   "cell_type": "code",
   "execution_count": 18,
   "id": "8c5dae77-23c2-4580-9447-6a84c87e9370",
   "metadata": {},
   "outputs": [
    {
     "name": "stdout",
     "output_type": "stream",
     "text": [
      "finished at: 2022-11-26 15:40:23\n"
     ]
    }
   ],
   "source": [
    "!echo \"finished at: $(date +%F\\ %T)\""
   ]
  }
 ],
 "metadata": {
  "kernelspec": {
   "display_name": "C++14",
   "language": "C++14",
   "name": "xcpp14"
  },
  "language_info": {
   "codemirror_mode": "text/x-c++src",
   "file_extension": ".cpp",
   "mimetype": "text/x-c++src",
   "name": "c++",
   "version": "14"
  }
 },
 "nbformat": 4,
 "nbformat_minor": 5
}
