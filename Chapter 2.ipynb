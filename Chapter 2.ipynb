{
 "cells": [
  {
   "cell_type": "markdown",
   "id": "511e2f4e-0d3f-4fb7-a367-1130023ac94f",
   "metadata": {},
   "source": [
    "# Chapter 2 簡單的C++"
   ]
  },
  {
   "cell_type": "markdown",
   "id": "01b7a7c2-26eb-4e44-918b-cbd1058271a4",
   "metadata": {},
   "source": [
    "```cpp\n",
    "#include <iostream>\n",
    "using namespace std;\n",
    "int main(void) {\n",
    "    int num;  // 宣告整數 num\n",
    "    num = 3;  // 將 num 設為 3\n",
    "    cout << \"I have \" << num << \" apples.\";\n",
    "    return 0; // 代表程式正常結束\n",
    "}\n",
    "```"
   ]
  },
  {
   "cell_type": "markdown",
   "id": "6a86864c-23c6-462e-9833-25abacfe476f",
   "metadata": {},
   "source": [
    "輸出變數"
   ]
  },
  {
   "cell_type": "code",
   "execution_count": 1,
   "id": "d59bed3c-844a-4105-8129-0107fa4dc6c6",
   "metadata": {},
   "outputs": [],
   "source": [
    "#include <iostream>\n",
    "using namespace std;"
   ]
  },
  {
   "cell_type": "code",
   "execution_count": 2,
   "id": "78f54208-499a-4e36-8b83-df34fc98826e",
   "metadata": {},
   "outputs": [
    {
     "name": "stdout",
     "output_type": "stream",
     "text": [
      "I have 3 apples."
     ]
    }
   ],
   "source": [
    "int num; // 宣告整數 num\n",
    "num = 3; // 將 num 設為 3\n",
    "cout << \"I have \" << num << \" apples.\";"
   ]
  },
  {
   "cell_type": "markdown",
   "id": "34f80f67-f223-4c63-a07d-e67b52c43d0b",
   "metadata": {},
   "source": [
    "輸入變數"
   ]
  },
  {
   "cell_type": "code",
   "execution_count": 4,
   "id": "618793dc-1b83-4238-9bb7-866cb80a3625",
   "metadata": {},
   "outputs": [
    {
     "name": "stdin",
     "output_type": "stream",
     "text": [
      " 1 2\n"
     ]
    },
    {
     "name": "stdout",
     "output_type": "stream",
     "text": [
      "總和：3"
     ]
    }
   ],
   "source": [
    "int x, y;\n",
    "cin >> x >> y;\n",
    "cout << \"總和：\" << x + y;"
   ]
  },
  {
   "cell_type": "markdown",
   "id": "67389e42-4b67-49d5-9652-f79c46ab03a6",
   "metadata": {},
   "source": [
    "> 何謂變數？\n",
    "\n",
    "變數就代表記憶體空間"
   ]
  },
  {
   "cell_type": "code",
   "execution_count": null,
   "id": "1357b107-57eb-4e44-be1b-ce1bb5652cd6",
   "metadata": {},
   "outputs": [],
   "source": []
  }
 ],
 "metadata": {
  "kernelspec": {
   "display_name": "C++14",
   "language": "C++14",
   "name": "xcpp14"
  },
  "language_info": {
   "codemirror_mode": "text/x-c++src",
   "file_extension": ".cpp",
   "mimetype": "text/x-c++src",
   "name": "c++",
   "version": "14"
  }
 },
 "nbformat": 4,
 "nbformat_minor": 5
}
